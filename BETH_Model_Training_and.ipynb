{
  "nbformat": 4,
  "nbformat_minor": 0,
  "metadata": {
    "colab": {
      "provenance": [],
      "machine_shape": "hm",
      "collapsed_sections": [
        "3Abl6sIi03Vd",
        "R7A0lijpQSVG"
      ]
    },
    "kernelspec": {
      "name": "python3",
      "display_name": "Python 3"
    },
    "language_info": {
      "name": "python"
    },
    "gpuClass": "premium"
  },
  "cells": [
    {
      "cell_type": "code",
      "source": [
        "import numpy as np \n",
        "import pandas as pd \n",
        "import matplotlib.pyplot as plt # viz\n",
        "import seaborn as sns # viz\n",
        "import sklearn\n",
        "from scipy import stats\n",
        "from sklearn.svm import OneClassSVM\n",
        "from sklearn.neighbors import LocalOutlierFactor\n",
        "from sklearn.ensemble import IsolationForest\n",
        "import sklearn.metrics\n",
        "from scipy import stats\n",
        "import scikitplot as skplt"
      ],
      "metadata": {
        "id": "pLDBFXs6ltf5"
      },
      "execution_count": 22,
      "outputs": []
    },
    {
      "cell_type": "code",
      "source": [
        "path ='/content/gdrive'\n",
        "from google.colab import drive\n",
        "drive.mount(path)"
      ],
      "metadata": {
        "colab": {
          "base_uri": "https://localhost:8080/"
        },
        "id": "bMnZbkdJltSV",
        "outputId": "e8e9b454-e78e-4825-ab6d-537ad1b5e18a"
      },
      "execution_count": 2,
      "outputs": [
        {
          "output_type": "stream",
          "name": "stdout",
          "text": [
            "Mounted at /content/gdrive\n"
          ]
        }
      ]
    },
    {
      "cell_type": "code",
      "source": [
        "%cd '/content/gdrive/MyDrive/BethData'"
      ],
      "metadata": {
        "colab": {
          "base_uri": "https://localhost:8080/"
        },
        "id": "sGFP0T2EoKOF",
        "outputId": "fd3ed89d-9e48-4abd-dac4-8f4857294e0d"
      },
      "execution_count": 3,
      "outputs": [
        {
          "output_type": "stream",
          "name": "stdout",
          "text": [
            "/content/gdrive/MyDrive/BethData\n"
          ]
        }
      ]
    },
    {
      "cell_type": "code",
      "execution_count": 4,
      "metadata": {
        "id": "gXRropZqWYb2"
      },
      "outputs": [],
      "source": [
        "train = pd.read_csv(\"labelled_training_data.csv\", engine = \"python\",on_bad_lines='skip')\n",
        "test = pd.read_csv(\"labelled_testing_data.csv\" ,engine = 'python',on_bad_lines='skip')"
      ]
    },
    {
      "cell_type": "code",
      "source": [
        "class Data_Process:\n",
        "\n",
        "    def __init__(self, split='train'):\n",
        "            if split == 'train':\n",
        "                data = train\n",
        "            elif split == 'test':\n",
        "                data = test\n",
        "            else:\n",
        "                raise Exception(\"Error: Invalid 'split' given\")\n",
        "            self.name = split\n",
        "            # Select columns and perform pre-processing\n",
        "            labels = pd.DataFrame(data[[\"sus\"]])\n",
        "            data = pd.DataFrame(data[[\"processId\", \"parentProcessId\", \"userId\", \"mountNamespace\", \"eventId\", \"argsNum\", \"returnValue\"]])\n",
        "            data[\"processId\"] = data[\"processId\"].map(lambda x: 0 if x in [0, 1, 2] else 1)  # Map to OS/not OS\n",
        "            data[\"parentProcessId\"] = data[\"parentProcessId\"].map(lambda x: 0 if x in [0, 1, 2] else 1)  # Map to OS/not OS\n",
        "            data[\"userId\"] = data[\"userId\"].map(lambda x: 0 if x < 1000 else 1)  # Map to OS/not OS\n",
        "            data[\"mountNamespace\"] = data[\"mountNamespace\"].map(lambda x: 0 if x == 4026531840 else 1)  # Map to mount access to mnt/ (all non-OS users) /elsewhere\n",
        "            data[\"eventId\"] = data[\"eventId\"]  # Keep eventId values (requires knowing max value)\n",
        "            data[\"returnValue\"] = data[\"returnValue\"].map(lambda x: 0 if x == 0 else (1 if x > 0 else 2))  # Map to success/success with value/error\n",
        "            self.data = data\n",
        "            self.labels = labels\n",
        "\n"
      ],
      "metadata": {
        "id": "31elovkDn7me"
      },
      "execution_count": 5,
      "outputs": []
    },
    {
      "cell_type": "code",
      "source": [
        "training = Data_Process()\n",
        "testing = Data_Process(split = 'test')"
      ],
      "metadata": {
        "id": "wJJ4Sl8zvLNd"
      },
      "execution_count": 6,
      "outputs": []
    },
    {
      "cell_type": "code",
      "source": [
        "sampleTrain = pd.concat([training.data, training.labels], axis=1).sample(frac = 0.10)"
      ],
      "metadata": {
        "id": "2PtK972qVSZK"
      },
      "execution_count": 7,
      "outputs": []
    },
    {
      "cell_type": "code",
      "source": [
        "np.unique(sampleTrain['sus'], return_counts=True)\n",
        "sample_x = sampleTrain.drop(labels='sus', axis=1)\n",
        "sample_y = pd.DataFrame(sampleTrain['sus'])"
      ],
      "metadata": {
        "id": "6SpWhR6pV7Un"
      },
      "execution_count": 8,
      "outputs": []
    },
    {
      "cell_type": "code",
      "source": [
        "sampleTest = pd.concat([testing.data, testing.labels], axis=1).sample(frac = 0.10)"
      ],
      "metadata": {
        "id": "WkiLKVH_Fs-Y"
      },
      "execution_count": 9,
      "outputs": []
    },
    {
      "cell_type": "code",
      "source": [
        "np.unique(sampleTest['sus'], return_counts=True)\n",
        "sampleTest_x = sampleTrain.drop(labels='sus', axis=1)\n",
        "sampleTest_y = pd.DataFrame(sampleTrain['sus'])"
      ],
      "metadata": {
        "id": "yagdosCFFtFW"
      },
      "execution_count": 10,
      "outputs": []
    },
    {
      "cell_type": "markdown",
      "source": [
        "##Local Outlier Factor"
      ],
      "metadata": {
        "id": "3Abl6sIi03Vd"
      }
    },
    {
      "cell_type": "code",
      "source": [
        "LOF = LocalOutlierFactor(n_neighbors = 5,contamination = 0.05)"
      ],
      "metadata": {
        "id": "IOKbVFGtD-8a"
      },
      "execution_count": null,
      "outputs": []
    },
    {
      "cell_type": "code",
      "source": [
        "predictLOF = pd.DataFrame()\n",
        "predictLOF['Predicted Values'] = LOF.fit_predict(testing.data)\n",
        "predictLOF['Anomalies'] = predictLOF['Predicted Values'].map({1:0,-1:1})"
      ],
      "metadata": {
        "id": "ZrsGcTzoe2go"
      },
      "execution_count": null,
      "outputs": []
    },
    {
      "cell_type": "code",
      "source": [
        "np.unique(predictLOF['Anomalies'], return_counts = True)"
      ],
      "metadata": {
        "colab": {
          "base_uri": "https://localhost:8080/"
        },
        "id": "f__0BBwgWBM2",
        "outputId": "3e93f892-15be-4beb-d8ec-7ba64ab08cf3"
      },
      "execution_count": null,
      "outputs": [
        {
          "output_type": "execute_result",
          "data": {
            "text/plain": [
              "(array([0, 1]), array([188849,    118]))"
            ]
          },
          "metadata": {},
          "execution_count": 18
        }
      ]
    },
    {
      "cell_type": "code",
      "source": [
        "f1 = sklearn.metrics.f1_score(testing.labels, predictLOF['Anomalies'], average = 'macro')\n",
        "accuracy = sklearn.metrics.accuracy_score(testing.labels, predictLOF['Anomalies'])\n",
        "roc = sklearn.metrics.roc_auc_score(testing.labels, predictLOF['Anomalies'])\n",
        "print(roc)\n",
        "print(f1)\n",
        "print(accuracy)"
      ],
      "metadata": {
        "colab": {
          "base_uri": "https://localhost:8080/"
        },
        "id": "DfntfnUtPePZ",
        "outputId": "4ac23041-b411-447e-a18d-81b6c19cf5c4"
      },
      "execution_count": null,
      "outputs": [
        {
          "output_type": "stream",
          "name": "stdout",
          "text": [
            "0.4988962775591225\n",
            "0.08503997908088588\n",
            "0.09278868797197394\n"
          ]
        }
      ]
    },
    {
      "cell_type": "code",
      "source": [
        "np.unique(predictLOF['Anomalies'], return_counts=True)"
      ],
      "metadata": {
        "colab": {
          "base_uri": "https://localhost:8080/"
        },
        "id": "JpR0FGzMHBKB",
        "outputId": "d47cd568-c4e1-41d8-c8c3-80d441a38d81"
      },
      "execution_count": null,
      "outputs": [
        {
          "output_type": "execute_result",
          "data": {
            "text/plain": [
              "(array([0, 1]), array([188849,    118]))"
            ]
          },
          "metadata": {},
          "execution_count": 22
        }
      ]
    },
    {
      "cell_type": "markdown",
      "source": [
        "## One Class SVM Model\n"
      ],
      "metadata": {
        "id": "R7A0lijpQSVG"
      }
    },
    {
      "cell_type": "code",
      "source": [
        "One_SVM = OneClassSVM(nu=0.05, kernel = 'rbf', gamma = 'auto').fit(training.data)"
      ],
      "metadata": {
        "id": "e7rlk1JkWzb3"
      },
      "execution_count": null,
      "outputs": []
    },
    {
      "cell_type": "code",
      "source": [
        "predictSVM = pd.DataFrame()\n",
        "predictSVM['Predicted Values'] = One_SVM.predict(testing.data)\n",
        "predictSVM['Anomalies'] = predictSVM['Predicted Values'].map({1:0,-1:1})"
      ],
      "metadata": {
        "id": "tSLTUPLQBlDa"
      },
      "execution_count": null,
      "outputs": []
    },
    {
      "cell_type": "code",
      "source": [
        "np.unique(predictSVM['Predicted Values'], return_counts=True)"
      ],
      "metadata": {
        "colab": {
          "base_uri": "https://localhost:8080/"
        },
        "id": "1FU9Ux_pBlRI",
        "outputId": "20ae4204-f734-4db9-bd81-36f11e9b5e31"
      },
      "execution_count": null,
      "outputs": [
        {
          "output_type": "execute_result",
          "data": {
            "text/plain": [
              "(array([-1,  1]), array([169311,  19656]))"
            ]
          },
          "metadata": {},
          "execution_count": 25
        }
      ]
    },
    {
      "cell_type": "code",
      "source": [
        "f1 = sklearn.metrics.f1_score(testing.labels, predictSVM['Anomalies'], average = 'macro')\n",
        "accuracy = sklearn.metrics.accuracy_score(testing.labels, predictSVM['Anomalies'])\n",
        "roc = sklearn.metrics.roc_auc_score(testing.labels, predictSVM['Anomalies'])\n",
        "print(roc)\n",
        "print(f1)\n",
        "print(accuracy)"
      ],
      "metadata": {
        "colab": {
          "base_uri": "https://localhost:8080/"
        },
        "id": "KO2xscxPBliQ",
        "outputId": "9cc9c222-91e2-4e71-bc1b-1309e80ca5a8"
      },
      "execution_count": null,
      "outputs": [
        {
          "output_type": "stream",
          "name": "stdout",
          "text": [
            "0.8344120796271708\n",
            "0.816887703529289\n",
            "0.9350574438923198\n"
          ]
        }
      ]
    },
    {
      "cell_type": "markdown",
      "source": [
        "##Training Isolation Forest Model"
      ],
      "metadata": {
        "id": "9oDGkgfR9tfE"
      }
    },
    {
      "cell_type": "code",
      "source": [
        "clf = IsolationForest(random_state=20,contamination=0.05).fit(training.data)"
      ],
      "metadata": {
        "colab": {
          "base_uri": "https://localhost:8080/"
        },
        "id": "_HR75_Uzkrs3",
        "outputId": "969bc61e-5219-48db-add8-9ca0c08e2c4e"
      },
      "execution_count": 11,
      "outputs": [
        {
          "output_type": "stream",
          "name": "stderr",
          "text": [
            "/usr/local/lib/python3.7/dist-packages/sklearn/base.py:451: UserWarning: X does not have valid feature names, but IsolationForest was fitted with feature names\n",
            "  \"X does not have valid feature names, but\"\n"
          ]
        }
      ]
    },
    {
      "cell_type": "code",
      "source": [
        "np.unique(training.labels, return_counts =True)"
      ],
      "metadata": {
        "colab": {
          "base_uri": "https://localhost:8080/"
        },
        "id": "89-cSZPo9DuW",
        "outputId": "3488d58b-1557-4c90-d928-3f4367293e71"
      },
      "execution_count": 12,
      "outputs": [
        {
          "output_type": "execute_result",
          "data": {
            "text/plain": [
              "(array([0, 1]), array([761875,   1269]))"
            ]
          },
          "metadata": {},
          "execution_count": 12
        }
      ]
    },
    {
      "cell_type": "code",
      "source": [
        "predict = pd.DataFrame()\n",
        "predict['Predicted Values'] = clf.predict(testing.data)\n",
        "predict['Anomalies'] = predict['Predicted Values'].map({1:0,-1:1})"
      ],
      "metadata": {
        "id": "55SxmN2GktPl"
      },
      "execution_count": 13,
      "outputs": []
    },
    {
      "cell_type": "code",
      "source": [
        "np.unique(predict['Predicted Values'], return_counts=True)"
      ],
      "metadata": {
        "colab": {
          "base_uri": "https://localhost:8080/"
        },
        "id": "Bykmzj4pwTXE",
        "outputId": "41fbf6c2-5753-4d7e-ceff-96e64d56b26d"
      },
      "execution_count": 14,
      "outputs": [
        {
          "output_type": "execute_result",
          "data": {
            "text/plain": [
              "(array([-1,  1]), array([149317,  39650]))"
            ]
          },
          "metadata": {},
          "execution_count": 14
        }
      ]
    },
    {
      "cell_type": "code",
      "source": [
        "f1 = sklearn.metrics.f1_score(testing.labels, predict['Anomalies'])\n",
        "accuracy = sklearn.metrics.accuracy_score(testing.labels, predict['Anomalies'])\n",
        "roc = sklearn.metrics.roc_auc_score(testing.labels, predict['Anomalies'])"
      ],
      "metadata": {
        "id": "QnjdHVscwsuL"
      },
      "execution_count": 15,
      "outputs": []
    },
    {
      "cell_type": "code",
      "source": [
        "print(roc)\n",
        "print(f1)\n",
        "print(accuracy)"
      ],
      "metadata": {
        "colab": {
          "base_uri": "https://localhost:8080/"
        },
        "id": "4sF07UjUyC4z",
        "outputId": "d00abe04-5184-49c4-b267-a499004ba984"
      },
      "execution_count": 16,
      "outputs": [
        {
          "output_type": "stream",
          "name": "stdout",
          "text": [
            "0.847868506510074\n",
            "0.913628201611093\n",
            "0.8533818074055258\n"
          ]
        }
      ]
    },
    {
      "cell_type": "code",
      "source": [
        "fpr, tpr, _ = sklearn.metrics.roc_curve(testing.labels, predict['Anomalies'])\n",
        "auc = sklearn.metrics.roc_auc_score(testing.labels, predict['Anomalies'])\n",
        "plt.plot(fpr,tpr,label=\"auc=\"+str(auc))\n",
        "plt.plot([0, 1], [0, 1], color=\"navy\", lw=2, linestyle=\"--\")\n",
        "plt.xlabel(\"False Positive Rate\")\n",
        "plt.ylabel(\"True Positive Rate\")\n",
        "plt.title(\"ROC Curve For base Isolation Forest Model\")\n",
        "plt.legend(loc=\"lower right\")\n",
        "plt.show()"
      ],
      "metadata": {
        "colab": {
          "base_uri": "https://localhost:8080/",
          "height": 295
        },
        "id": "wwWsyJDBgDRp",
        "outputId": "6d8a6950-b15c-40a8-f5b0-8cbf19fe67d2"
      },
      "execution_count": 46,
      "outputs": [
        {
          "output_type": "display_data",
          "data": {
            "text/plain": [
              "<Figure size 432x288 with 1 Axes>"
            ],
            "image/png": "[encoded data removed]"
          },
          "metadata": {
            "needs_background": "light"
          }
        }
      ]
    },
    {
      "cell_type": "code",
      "source": [
        "cf_matrix = sklearn.metrics.confusion_matrix(testing.labels, predict['Anomalies'])\n",
        "print(cf_matrix)\n"
      ],
      "metadata": {
        "colab": {
          "base_uri": "https://localhost:8080/"
        },
        "id": "5glT_RcvsyEm",
        "outputId": "d8f5137a-aad8-48e8-addf-8ea5b61c9fcc"
      },
      "execution_count": 48,
      "outputs": [
        {
          "output_type": "stream",
          "name": "stdout",
          "text": [
            "[[ 14726   2782]\n",
            " [ 24924 146535]]\n"
          ]
        }
      ]
    },
    {
      "cell_type": "code",
      "source": [
        "group_names = [\"True Neg\",\"False Pos\",\"False Neg\",\"True Pos\"]\n",
        "group_counts = [\"{0:0.0f}\".format(value) for value in\n",
        "                cf_matrix.flatten()]\n",
        "group_percentages = [\"{0:.2%}\".format(value) for value in\n",
        "                     cf_matrix.flatten()/np.sum(cf_matrix)]\n",
        "labels = [f\"{v1}\\n{v2}\\n{v3}\" for v1, v2, v3 in\n",
        "          zip(group_names,group_counts,group_percentages)]\n",
        "labels = np.asarray(labels).reshape(2,2)\n",
        "sns.heatmap(cf_matrix, annot=labels, fmt=\"\", cmap='Blues')\n",
        "plt.title(\"Confusion Matrix\")\n",
        "plt.ylabel('True label')\n",
        "plt.xlabel('Predicted label')"
      ],
      "metadata": {
        "colab": {
          "base_uri": "https://localhost:8080/",
          "height": 312
        },
        "id": "DAoeed5xsrIn",
        "outputId": "b9680bea-1c89-468b-c3e2-49e18b2acf98"
      },
      "execution_count": 58,
      "outputs": [
        {
          "output_type": "execute_result",
          "data": {
            "text/plain": [
              "Text(0.5, 15.0, 'Predicted label')"
            ]
          },
          "metadata": {},
          "execution_count": 58
        },
        {
          "output_type": "display_data",
          "data": {
            "text/plain": [
              "<Figure size 432x288 with 2 Axes>"
            ],
            "image/png": "[encoded data removed]"
          },
          "metadata": {
            "needs_background": "light"
          }
        }
      ]
    },
    {
      "cell_type": "markdown",
      "source": [
        "Testing predictive power of Isolation forest trained on 10% Random Sample"
      ],
      "metadata": {
        "id": "ABETTsWHazN6"
      }
    },
    {
      "cell_type": "code",
      "source": [
        "clf_sample = IsolationForest(random_state=20,contamination=0.05).fit(sample_x)"
      ],
      "metadata": {
        "colab": {
          "base_uri": "https://localhost:8080/"
        },
        "id": "XlxBzd5Tavli",
        "outputId": "0eddefd6-a1f4-41df-d334-51d6c4e4e1ee"
      },
      "execution_count": 59,
      "outputs": [
        {
          "output_type": "stream",
          "name": "stderr",
          "text": [
            "/usr/local/lib/python3.7/dist-packages/sklearn/base.py:451: UserWarning: X does not have valid feature names, but IsolationForest was fitted with feature names\n",
            "  \"X does not have valid feature names, but\"\n"
          ]
        }
      ]
    },
    {
      "cell_type": "code",
      "source": [
        "predict_sample = pd.DataFrame()\n",
        "predict_sample['Predicted Values'] = clf_sample.predict(testing.data)\n",
        "predict_sample['Anomalies'] = predict_sample['Predicted Values'].map({1:0,-1:1})"
      ],
      "metadata": {
        "id": "_kEXt07cawJh"
      },
      "execution_count": 60,
      "outputs": []
    },
    {
      "cell_type": "code",
      "source": [
        "f1_sample = sklearn.metrics.f1_score(testing.labels, predict_sample['Anomalies'])\n",
        "accuracy_sample = sklearn.metrics.accuracy_score(testing.labels, predict_sample['Anomalies'])\n",
        "roc_sample = sklearn.metrics.roc_auc_score(testing.labels, predict_sample['Anomalies'])"
      ],
      "metadata": {
        "id": "wE20QfqhawRK"
      },
      "execution_count": 61,
      "outputs": []
    },
    {
      "cell_type": "code",
      "source": [
        "print(roc_sample)\n",
        "print(f1_sample)\n",
        "print(accuracy_sample)"
      ],
      "metadata": {
        "colab": {
          "base_uri": "https://localhost:8080/"
        },
        "id": "vZcdSl82bc53",
        "outputId": "4db135dd-04b3-43ff-cb79-1c4c3c16e018"
      },
      "execution_count": 62,
      "outputs": [
        {
          "output_type": "stream",
          "name": "stdout",
          "text": [
            "0.8614770848188155\n",
            "0.9135455787758726\n",
            "0.8536940312329666\n"
          ]
        }
      ]
    },
    {
      "cell_type": "code",
      "source": [
        "##optimize via 10x grid search cross validation\n",
        "from sklearn import metrics\n",
        "from sklearn import model_selection\n",
        "\n",
        "class Tune_parameters:\n",
        "\n",
        "    def __init__(self,model,x,y,param_grid, score = \"f1_macro\"):\n",
        "        clf = model.fit(x)\n",
        "\n",
        "        self.random_dt_estimator = model_selection.RandomizedSearchCV(clf, \n",
        "                                                 param_grid,\n",
        "                                                 scoring=score, \n",
        "                                                 refit=True,\n",
        "                                                 cv=10, \n",
        "                                                 return_train_score=True,\n",
        "                                                 verbose = 0)\n",
        "        self.random_dt_estimator.fit(x, y)"
      ],
      "metadata": {
        "id": "3HmFNqTm91ez"
      },
      "execution_count": 80,
      "outputs": []
    },
    {
      "cell_type": "markdown",
      "source": [
        "Tune Model Using F1_macro score (Macro average is best for imbalanced classification because it treats each class equally) instead of the weighted F1 score which would give too much weight to the non-anomamly class."
      ],
      "metadata": {
        "id": "z69ms3HeEs8U"
      }
    },
    {
      "cell_type": "code",
      "source": [
        "param_grid = {'n_estimators': list(range(100, 500, 10)), ##Testing optimum number of tres in the ensemble\n",
        "                  'contamination': list(np.arange(0.001, 0.1, 0.001)), ##testing contamination parameters (Most sensitive parameter)\n",
        "                  'max_features': list(range(1, 7, 1))}\n",
        "model = IsolationForest()\n",
        "tunedISO = Tune_parameters(model,sample_x,sample_y,param_grid)"
      ],
      "metadata": {
        "id": "AVG-0n1r5MAD"
      },
      "execution_count": null,
      "outputs": []
    },
    {
      "cell_type": "code",
      "source": [
        "tunedISO.random_dt_estimator.best_params_"
      ],
      "metadata": {
        "colab": {
          "base_uri": "https://localhost:8080/"
        },
        "id": "3nZ_y0Nnkhyd",
        "outputId": "9a01d005-b862-428b-bbe8-15524ceb140f"
      },
      "execution_count": 67,
      "outputs": [
        {
          "output_type": "execute_result",
          "data": {
            "text/plain": [
              "{'n_estimators': 280, 'max_features': 5, 'contamination': 0.009000000000000001}"
            ]
          },
          "metadata": {},
          "execution_count": 67
        }
      ]
    },
    {
      "cell_type": "code",
      "source": [
        "clf_tuned = IsolationForest(max_features=5,contamination=0.009).fit(training.data)\n",
        "predict_tuned = pd.DataFrame()\n",
        "predict_tuned['Predicted Values'] = clf_tuned.predict(testing.data)\n",
        "predict_tuned['Anomalies'] = predict_tuned['Predicted Values'].map({1:0,-1:1})\n"
      ],
      "metadata": {
        "colab": {
          "base_uri": "https://localhost:8080/"
        },
        "id": "t9rP3GZz0avc",
        "outputId": "951d9f44-b09f-4553-baef-5a9c75f52128"
      },
      "execution_count": 73,
      "outputs": [
        {
          "output_type": "stream",
          "name": "stderr",
          "text": [
            "/usr/local/lib/python3.7/dist-packages/sklearn/base.py:451: UserWarning: X does not have valid feature names, but IsolationForest was fitted with feature names\n",
            "  \"X does not have valid feature names, but\"\n"
          ]
        },
        {
          "output_type": "stream",
          "name": "stdout",
          "text": [
            "0.9147821997830249\n",
            "0.9180729415913155\n",
            "0.8622934163107844\n"
          ]
        }
      ]
    },
    {
      "cell_type": "code",
      "source": [
        "f1_tuned = sklearn.metrics.f1_score(testing.labels, predict_tuned['Anomalies'])\n",
        "accuracy_tuned = sklearn.metrics.accuracy_score(testing.labels, predict_tuned['Anomalies'])\n",
        "roc_tuned = sklearn.metrics.roc_auc_score(testing.labels, predict_tuned['Anomalies'])\n",
        "recall_tuned = sklearn.metrics.recall_score(testing.labels, predict_tuned['Anomalies'])\n",
        "precision_tuned = sklearn.metrics.precision_score(testing.labels, predict_tuned['Anomalies'])\n",
        "print(\"ROC:\" + str(roc_tuned))\n",
        "print(\"f1: \" + str(f1_tuned))\n",
        "print(\"Accuracy:\" + str(accuracy_tuned))\n",
        "print(\"Recall: \" + str(recall_tuned))\n",
        "print(\"Precision: \" + str(precision_tuned))"
      ],
      "metadata": {
        "colab": {
          "base_uri": "https://localhost:8080/"
        },
        "id": "AMyVrBPoT3ep",
        "outputId": "3a14fc8e-1987-4d00-a318-ed8bef45e709"
      },
      "execution_count": 79,
      "outputs": [
        {
          "output_type": "stream",
          "name": "stdout",
          "text": [
            "ROC:0.9147821997830249\n",
            "f1: 0.9180729415913155\n",
            "Accuracy:0.8622934163107844\n",
            "Recall: 0.8503548953394106\n",
            "Precision: 0.9975096637361885\n"
          ]
        }
      ]
    },
    {
      "cell_type": "code",
      "source": [
        "##Plot the ROC curve"
      ],
      "metadata": {
        "id": "kQzpitCsehGy"
      },
      "execution_count": null,
      "outputs": []
    },
    {
      "cell_type": "code",
      "source": [
        "fpr, tpr, _ = sklearn.metrics.roc_curve(testing.labels, predict_tuned['Anomalies'])\n",
        "auc = sklearn.metrics.roc_auc_score(testing.labels, predict_tuned['Anomalies'])\n",
        "plt.plot(fpr,tpr,label=\"auc=\"+str(auc))\n",
        "plt.plot([0, 1], [0, 1], color=\"navy\", lw=2, linestyle=\"--\")\n",
        "plt.xlabel(\"False Positive Rate\")\n",
        "plt.ylabel(\"True Positive Rate\")\n",
        "plt.title(\"ROC Curve For Tuned Isolation Forest Model\")\n",
        "plt.legend(loc=\"lower right\")\n",
        "plt.show()"
      ],
      "metadata": {
        "id": "yMpxVoZxRh3H",
        "colab": {
          "base_uri": "https://localhost:8080/",
          "height": 295
        },
        "outputId": "17ca4932-538a-4ca2-ba30-9e4eb889e400"
      },
      "execution_count": 74,
      "outputs": [
        {
          "output_type": "display_data",
          "data": {
            "text/plain": [
              "<Figure size 432x288 with 1 Axes>"
            ],
            "image/png": "[encoded data removed]"
          },
          "metadata": {
            "needs_background": "light"
          }
        }
      ]
    },
    {
      "cell_type": "code",
      "source": [
        "cf_matrix = sklearn.metrics.confusion_matrix(testing.labels, predict_tuned['Anomalies'])\n",
        "print(cf_matrix)"
      ],
      "metadata": {
        "id": "d4rK2GxfRh6H",
        "colab": {
          "base_uri": "https://localhost:8080/"
        },
        "outputId": "2f875cbc-d981-4abc-f604-4485f077157e"
      },
      "execution_count": 75,
      "outputs": [
        {
          "output_type": "stream",
          "name": "stdout",
          "text": [
            "[[ 17144    364]\n",
            " [ 25658 145801]]\n"
          ]
        }
      ]
    },
    {
      "cell_type": "code",
      "source": [
        "group_names = [\"True Neg\",\"False Pos\",\"False Neg\",\"True Pos\"]\n",
        "group_counts = [\"{0:0.0f}\".format(value) for value in\n",
        "                cf_matrix.flatten()]\n",
        "group_percentages = [\"{0:.2%}\".format(value) for value in\n",
        "                     cf_matrix.flatten()/np.sum(cf_matrix)]\n",
        "labels = [f\"{v1}\\n{v2}\\n{v3}\" for v1, v2, v3 in\n",
        "          zip(group_names,group_counts,group_percentages)]\n",
        "labels = np.asarray(labels).reshape(2,2)\n",
        "sns.heatmap(cf_matrix, annot=labels, fmt=\"\", cmap='Blues')\n",
        "plt.title(\"Confusion Matrix Tuned Iso Forest (f1)\")\n",
        "plt.ylabel('True label')\n",
        "plt.xlabel('Predicted label')"
      ],
      "metadata": {
        "id": "1Js-j98mRh9B",
        "colab": {
          "base_uri": "https://localhost:8080/",
          "height": 312
        },
        "outputId": "b427536c-de34-4a28-8bbd-132e3f0eee3e"
      },
      "execution_count": 86,
      "outputs": [
        {
          "output_type": "execute_result",
          "data": {
            "text/plain": [
              "Text(0.5, 15.0, 'Predicted label')"
            ]
          },
          "metadata": {},
          "execution_count": 86
        },
        {
          "output_type": "display_data",
          "data": {
            "text/plain": [
              "<Figure size 432x288 with 2 Axes>"
            ],
            "image/png": "[encoded data removed]"
          },
          "metadata": {
            "needs_background": "light"
          }
        }
      ]
    }
  ]
}